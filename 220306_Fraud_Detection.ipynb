{
  "cells": [
    {
      "cell_type": "markdown",
      "metadata": {
        "id": "cAfY3KqZ2ASG"
      },
      "source": [
        "# Procedure\n",
        "\n",
        "Goal: Evaluate the effect of synthetic data for downstream task (fraud detection). \n",
        "\n",
        "## **Input Data**: Raw, SDV, DataSyn\n",
        "\n",
        "1. Raw data\n",
        "2. SDV synthetic data\n",
        "3. DataSynthesizer synthetic data\n",
        "\n",
        "## **Fraud detection models**: \n",
        "\n",
        "1. Na ̈ıve Bayes (NB)\n",
        "2. Support Vector Machine (SVM)\n",
        "3. K-nearest neighbour (KNN)\n",
        "4. Random Forest (RF)\n",
        "5. Logistic Regression (LR)\n",
        "6. Majority Voting\n",
        "\n",
        "## **Performance Metrics**:\n",
        "\n",
        "1. Accuracy\n",
        "2. Actuality Fraud catcched\n",
        "3. False Positive Rate\n",
        "4. False Negative Rate\n",
        "5. Precision-Recall curve\n",
        "6. ROC curve\n",
        "7. Confusion matrix.\n",
        "\n"
      ]
    },
    {
      "cell_type": "markdown",
      "metadata": {
        "id": "l4H7EqJH3Q27"
      },
      "source": [
        "# Step 0 Load data\n",
        "\n",
        "## Size of credit card fraud data\n",
        "- Total: 7300 (29 covariates, 1 outcome)\n",
        "- No fraud: 7000\n",
        "- Fraud: 300 \n",
        "\n",
        "## Fraud rate\n",
        "- fraud rate : 300/7000 = 0.041 "
      ]
    },
    {
      "cell_type": "code",
      "execution_count": 1,
      "metadata": {
        "colab": {
          "base_uri": "https://localhost:8080/"
        },
        "id": "MStIiY2i16Ch",
        "outputId": "d85a259b-c6f0-4e9a-d65f-1613955e33ea"
      },
      "outputs": [
        {
          "name": "stdout",
          "output_type": "stream",
          "text": [
            "Mounted at /content/drive\n"
          ]
        }
      ],
      "source": [
        "from google.colab import drive\n",
        "drive.mount('/content/drive')"
      ]
    },
    {
      "cell_type": "code",
      "execution_count": 5,
      "metadata": {
        "colab": {
          "base_uri": "https://localhost:8080/"
        },
        "id": "DHcRsBnj3Hnu",
        "outputId": "d3becb18-3330-452d-b836-44229107c37d"
      },
      "outputs": [
        {
          "name": "stdout",
          "output_type": "stream",
          "text": [
            "0    7000\n",
            "1     300\n",
            "Name: Class, dtype: int64\n",
            "0    0.958904\n",
            "1    0.041096\n",
            "Name: Class, dtype: float64\n"
          ]
        }
      ],
      "source": [
        "import numpy as np\n",
        "import matplotlib.pyplot as plt\n",
        "# Import pandas and read csv\n",
        "import pandas as pd\n",
        "df = pd.read_csv(\"/content/drive/MyDrive/creditcard_sampledata_2.csv\")\n",
        "\n",
        "# Explore the features available in the dataframe\n",
        "## print(df.info())\n",
        "\n",
        "# Count the occurrences of fraud and no fraud and print them\n",
        "occ = df['Class'].value_counts()\n",
        "print(occ)\n",
        "\n",
        "# Print the ratio of fraud cases\n",
        "print(occ / len(df.index)) "
      ]
    },
    {
      "cell_type": "markdown",
      "metadata": {
        "id": "2nxyeP0a4uIP"
      },
      "source": [
        "# Step 1 Generate data\n",
        "\n",
        "- Visualize no fraud (class 0) and fraud (class 1) at certain covariate direction. "
      ]
    },
    {
      "cell_type": "code",
      "execution_count": 6,
      "metadata": {
        "colab": {
          "base_uri": "https://localhost:8080/",
          "height": 392
        },
        "id": "M4h1qnKm45MS",
        "outputId": "ae0c79c0-045c-4e63-a4e6-dee0fe6438cd"
      },
      "outputs": [
        {
          "name": "stderr",
          "output_type": "stream",
          "text": [
            "/usr/local/lib/python3.7/dist-packages/ipykernel_launcher.py:5: DeprecationWarning: `np.float` is a deprecated alias for the builtin `float`. To silence this warning, use `float` by itself. Doing this will not modify any behavior and is safe. If you specifically wanted the numpy scalar type, use `np.float64` here.\n",
            "Deprecated in NumPy 1.20; for more details and guidance: https://numpy.org/devdocs/release/1.20.0-notes.html#deprecations\n",
            "  \"\"\"\n",
            "/usr/local/lib/python3.7/dist-packages/ipykernel_launcher.py:7: DeprecationWarning: `np.float` is a deprecated alias for the builtin `float`. To silence this warning, use `float` by itself. Doing this will not modify any behavior and is safe. If you specifically wanted the numpy scalar type, use `np.float64` here.\n",
            "Deprecated in NumPy 1.20; for more details and guidance: https://numpy.org/devdocs/release/1.20.0-notes.html#deprecations\n",
            "  import sys\n"
          ]
        },
        {
          "data": {
            "image/png": "[encoded data removed]",
            "text/plain": [
              "<Figure size 432x288 with 1 Axes>"
            ]
          },
          "metadata": {
            "needs_background": "light"
          },
          "output_type": "display_data"
        }
      ],
      "source": [
        "# Define a function to turn dataframe to feature and response\n",
        "\n",
        "def prep_data(df):\n",
        "    X = df.iloc[:, 1:29]\n",
        "    X = np.array(X).astype(np.float)\n",
        "    y = df.iloc[:, 30]\n",
        "    y=np.array(y).astype(np.float)\n",
        "    return X,y\n",
        "\n",
        "# Define a function to create a scatter plot of our data and labels\n",
        "def plot_data(X, y):\n",
        "    plt.scatter(X[y == 0, 1], X[y == 0, 0], label=\"Class #0\", alpha=0.5, linewidth=0.15)\n",
        "    plt.scatter(X[y == 1, 1], X[y == 1, 0], label=\"Class #1\", alpha=0.5, linewidth=0.15, c='r')\n",
        "    plt.legend()\n",
        "    return plt.show()\n",
        "\n",
        "# Create X and y from our above defined function\n",
        "X, y = prep_data(df)\n",
        "\n",
        "# Plot our data by running our plot data function on X and y\n",
        "plot_data(X, y)"
      ]
    },
    {
      "cell_type": "markdown",
      "metadata": {
        "id": "QnRZXYCy5axy"
      },
      "source": [
        "**Task 1**: \n",
        "- Visualize no fraud (class 0) and fraud (class 1) distributions of raw, SDV, DS data.\n",
        "- Do the synthetic data preserve certain relative characteristic between no fraud class and fraud class? "
      ]
    },
    {
      "cell_type": "markdown",
      "metadata": {
        "id": "WLkwF3s95Wyl"
      },
      "source": [
        "# Step 2 Model\n",
        "\n",
        "- Below I provide random forest models"
      ]
    },
    {
      "cell_type": "code",
      "execution_count": 7,
      "metadata": {
        "colab": {
          "base_uri": "https://localhost:8080/"
        },
        "id": "2INe7CoX5_UG",
        "outputId": "84568fc5-47c4-4a30-87ed-633e3ef1f66c"
      },
      "outputs": [
        {
          "name": "stdout",
          "output_type": "stream",
          "text": [
            "0.9917808219178083\n"
          ]
        }
      ],
      "source": [
        "# Split your data into training and test set\n",
        "from sklearn.model_selection import train_test_split\n",
        "X_train, X_test, y_train, y_test = train_test_split(X, y, test_size=0.3, random_state=0)\n",
        "\n",
        "# Import the random forest model from sklearn\n",
        "# Define the model as the random forest\n",
        "from sklearn.ensemble import RandomForestClassifier\n",
        "model = RandomForestClassifier(random_state=5)\n",
        "\n",
        "# Fit the model to our training set\n",
        "model.fit(X_train, y_train)\n",
        "\n",
        "\n"
      ]
    },
    {
      "cell_type": "markdown",
      "metadata": {
        "id": "6H8KrXeS6Yan"
      },
      "source": [
        "# Step 3 Evaluation \n",
        "\n",
        "- Metric 1: Accuracy\n",
        "- Metric 2: ROC_AUC score\n",
        "- Metric 3: Classification report \n",
        "- Metric 4: Confusion matrix "
      ]
    },
    {
      "cell_type": "markdown",
      "metadata": {
        "id": "CX2kGaNN65ki"
      },
      "source": [
        "## Print 4 Metrics\n",
        "\n"
      ]
    },
    {
      "cell_type": "code",
      "execution_count": 10,
      "metadata": {
        "colab": {
          "base_uri": "https://localhost:8080/"
        },
        "id": "_dj1xKvo64Ui",
        "outputId": "08e5d9e7-761e-4590-c561-8ffe2fe11290"
      },
      "outputs": [
        {
          "name": "stdout",
          "output_type": "stream",
          "text": [
            "0.9917808219178083\n",
            "0.961093456329283\n",
            "              precision    recall  f1-score   support\n",
            "\n",
            "         0.0       0.99      1.00      1.00      2099\n",
            "         1.0       0.99      0.81      0.89        91\n",
            "\n",
            "    accuracy                           0.99      2190\n",
            "   macro avg       0.99      0.91      0.94      2190\n",
            "weighted avg       0.99      0.99      0.99      2190\n",
            "\n",
            "[[2098    1]\n",
            " [  17   74]]\n"
          ]
        }
      ],
      "source": [
        "# Print the accuracy performance metric\n",
        "from sklearn.metrics import accuracy_score\n",
        "# Import the packages to get the different performance metrics\n",
        "from sklearn.metrics import classification_report, confusion_matrix, roc_auc_score\n",
        "\n",
        "# Obtain the predictions from our random forest model \n",
        "predicted = model.predict(X_test)\n",
        "# Predict probabilities\n",
        "probs = model.predict_proba(X_test)\n",
        "\n",
        "# Print Matric 1: accuracy\n",
        "print(accuracy_score(y_test, predicted))\n",
        "# Print Matric 2: the ROC curve\n",
        "print(roc_auc_score(y_test, probs[:,1]))\n",
        "# Print Matric 3: classification report \n",
        "print(classification_report(y_test, predicted))\n",
        "# Print Matric 4: confusion matrix\n",
        "print(confusion_matrix(y_test, predicted))\n"
      ]
    },
    {
      "cell_type": "markdown",
      "metadata": {
        "id": "fpWTZpaZ8GJX"
      },
      "source": [
        "## Plot Precision Recall Curve\n"
      ]
    },
    {
      "cell_type": "code",
      "execution_count": 11,
      "metadata": {
        "colab": {
          "base_uri": "https://localhost:8080/",
          "height": 295
        },
        "id": "ahVoLjwZ8FW2",
        "outputId": "2e1c958c-79a0-41a0-9ce5-5e19491cdd4d"
      },
      "outputs": [
        {
          "data": {
            "image/png": "[encoded data removed]",
            "text/plain": [
              "<Figure size 432x288 with 1 Axes>"
            ]
          },
          "metadata": {
            "needs_background": "light"
          },
          "output_type": "display_data"
        }
      ],
      "source": [
        "from sklearn.metrics import average_precision_score, precision_recall_curve\n",
        "# Calculate average precision and the PR curve\n",
        "average_precision = average_precision_score(y_test, predicted)\n",
        "\n",
        "# Obtain precision and recall\n",
        "precision, recall, _ = precision_recall_curve(y_test, predicted)\n",
        "\n",
        "# Plot the recall precision tradeoff\n",
        "def plot_pr_curve(recall, precision, average_precision):\n",
        "  plt.step(recall, precision, color='b', alpha=0.2, where='post')\n",
        "  plt.fill_between(recall, precision, step='post', alpha=0.2, color='b')\n",
        "  plt.xlabel('Recall')\n",
        "  plt.ylabel('Precision')\n",
        "  plt.ylim([0.0, 1.05])\n",
        "  plt.xlim([0.0, 1.0])\n",
        "  plt.title('2-class Precision-Recall curve: AP={0:0.2f}'.format(average_precision))\n",
        "  plt.show()\n",
        "\n",
        "plot_pr_curve(recall, precision, average_precision)"
      ]
    },
    {
      "cell_type": "markdown",
      "metadata": {
        "id": "Zf21sNdF8lu-"
      },
      "source": [
        "# Instructions\n",
        "\n",
        "## Data Source (3 ways): \n",
        "- raw (no synthetic)\n",
        "- SDV\n",
        "- DS\n",
        "\n",
        "## Performance metric source (4 ways): \n",
        "- Metric 1: Accuracy\n",
        "- Metric 2: ROC_AUC score\n",
        "- Metric 3: Classification report\n",
        "- Metric 4: Confusion matrix\n",
        "\n",
        "## Models source (Many ways):\n",
        "\n",
        "- Models: try many models and see their performance change on different data source\n",
        "\n",
        "## Source of classification models\n",
        "\n",
        "- All classification models you tried before. \n",
        "- [`sklearn.linear_model`](https://scikit-learn.org/stable/modules/linear_model.html#): Logistic regression, and other models if you have time to try.\n",
        "- [`sklearn.ensemble`](https://scikit-learn.org/stable/modules/ensemble.html): Voting Classifier, and other models if you have time to try.\n",
        "- [`sklearn.tree`](https://scikit-learn.org/stable/modules/generated/sklearn.tree.DecisionTreeClassifier.html): DecisionTreeClassifier. "
      ]
    }
  ],
  "metadata": {
    "colab": {
      "collapsed_sections": [],
      "name": "220306_Fraud_Detection.ipynb",
      "provenance": [],
      "toc_visible": true
    },
    "kernelspec": {
      "display_name": "Python 3",
      "name": "python3"
    },
    "language_info": {
      "name": "python"
    }
  },
  "nbformat": 4,
  "nbformat_minor": 0
}
